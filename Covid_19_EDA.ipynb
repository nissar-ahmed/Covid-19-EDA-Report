{
  "nbformat": 4,
  "nbformat_minor": 5,
  "metadata": {
    "kernelspec": {
      "display_name": "Python 3",
      "language": "python",
      "name": "python3"
    },
    "language_info": {
      "codemirror_mode": {
        "name": "ipython",
        "version": 3
      },
      "file_extension": ".py",
      "mimetype": "text/x-python",
      "name": "python",
      "nbconvert_exporter": "python",
      "pygments_lexer": "ipython3",
      "version": "3.8.8"
    },
    "colab": {
      "name": "Covid_19_EDA.ipynb",
      "provenance": [],
      "include_colab_link": true
    }
  },
  "cells": [
    {
      "cell_type": "markdown",
      "metadata": {
        "id": "view-in-github",
        "colab_type": "text"
      },
      "source": [
        "<a href=\"https://colab.research.google.com/github/nissar-ahmed/Covid-19-EDA-Report/blob/main/Covid_19_EDA.ipynb\" target=\"_parent\"><img src=\"https://colab.research.google.com/assets/colab-badge.svg\" alt=\"Open In Colab\"/></a>"
      ]
    },
    {
      "cell_type": "code",
      "metadata": {
        "id": "b3728e74"
      },
      "source": [
        "#importing all necessary libraries\n",
        "\n",
        "import numpy as np\n",
        "import pandas as pd\n",
        "import matplotlib.pyplot as plt\n",
        "import seaborn as sns\n",
        "%matplotlib inline"
      ],
      "id": "b3728e74",
      "execution_count": null,
      "outputs": []
    },
    {
      "cell_type": "code",
      "metadata": {
        "id": "44f494d1",
        "outputId": "1c29b8c6-f9eb-4a88-cedd-cf9249309f26"
      },
      "source": [
        "# State wise COVID tests file\n",
        "\n",
        "tests = pd.read_csv(\"StatewiseTestingDetails.csv\")\n",
        "tests"
      ],
      "id": "44f494d1",
      "execution_count": null,
      "outputs": [
        {
          "output_type": "execute_result",
          "data": {
            "text/html": [
              "<div>\n",
              "<style scoped>\n",
              "    .dataframe tbody tr th:only-of-type {\n",
              "        vertical-align: middle;\n",
              "    }\n",
              "\n",
              "    .dataframe tbody tr th {\n",
              "        vertical-align: top;\n",
              "    }\n",
              "\n",
              "    .dataframe thead th {\n",
              "        text-align: right;\n",
              "    }\n",
              "</style>\n",
              "<table border=\"1\" class=\"dataframe\">\n",
              "  <thead>\n",
              "    <tr style=\"text-align: right;\">\n",
              "      <th></th>\n",
              "      <th>Date</th>\n",
              "      <th>State</th>\n",
              "      <th>TotalSamples</th>\n",
              "      <th>Negative</th>\n",
              "      <th>Positive</th>\n",
              "    </tr>\n",
              "  </thead>\n",
              "  <tbody>\n",
              "    <tr>\n",
              "      <th>0</th>\n",
              "      <td>2020-04-17</td>\n",
              "      <td>Andaman and Nicobar Islands</td>\n",
              "      <td>1403.0</td>\n",
              "      <td>1210</td>\n",
              "      <td>12.0</td>\n",
              "    </tr>\n",
              "    <tr>\n",
              "      <th>1</th>\n",
              "      <td>2020-04-24</td>\n",
              "      <td>Andaman and Nicobar Islands</td>\n",
              "      <td>2679.0</td>\n",
              "      <td>NaN</td>\n",
              "      <td>27.0</td>\n",
              "    </tr>\n",
              "    <tr>\n",
              "      <th>2</th>\n",
              "      <td>2020-04-27</td>\n",
              "      <td>Andaman and Nicobar Islands</td>\n",
              "      <td>2848.0</td>\n",
              "      <td>NaN</td>\n",
              "      <td>33.0</td>\n",
              "    </tr>\n",
              "    <tr>\n",
              "      <th>3</th>\n",
              "      <td>2020-05-01</td>\n",
              "      <td>Andaman and Nicobar Islands</td>\n",
              "      <td>3754.0</td>\n",
              "      <td>NaN</td>\n",
              "      <td>33.0</td>\n",
              "    </tr>\n",
              "    <tr>\n",
              "      <th>4</th>\n",
              "      <td>2020-05-16</td>\n",
              "      <td>Andaman and Nicobar Islands</td>\n",
              "      <td>6677.0</td>\n",
              "      <td>NaN</td>\n",
              "      <td>33.0</td>\n",
              "    </tr>\n",
              "    <tr>\n",
              "      <th>...</th>\n",
              "      <td>...</td>\n",
              "      <td>...</td>\n",
              "      <td>...</td>\n",
              "      <td>...</td>\n",
              "      <td>...</td>\n",
              "    </tr>\n",
              "    <tr>\n",
              "      <th>15108</th>\n",
              "      <td>2021-07-02</td>\n",
              "      <td>West Bengal</td>\n",
              "      <td>14325099.0</td>\n",
              "      <td>NaN</td>\n",
              "      <td>NaN</td>\n",
              "    </tr>\n",
              "    <tr>\n",
              "      <th>15109</th>\n",
              "      <td>2021-07-03</td>\n",
              "      <td>West Bengal</td>\n",
              "      <td>14377860.0</td>\n",
              "      <td>NaN</td>\n",
              "      <td>NaN</td>\n",
              "    </tr>\n",
              "    <tr>\n",
              "      <th>15110</th>\n",
              "      <td>2021-07-04</td>\n",
              "      <td>West Bengal</td>\n",
              "      <td>14430084.0</td>\n",
              "      <td>NaN</td>\n",
              "      <td>NaN</td>\n",
              "    </tr>\n",
              "    <tr>\n",
              "      <th>15111</th>\n",
              "      <td>2021-07-05</td>\n",
              "      <td>West Bengal</td>\n",
              "      <td>14470472.0</td>\n",
              "      <td>NaN</td>\n",
              "      <td>NaN</td>\n",
              "    </tr>\n",
              "    <tr>\n",
              "      <th>15112</th>\n",
              "      <td>2021-07-06</td>\n",
              "      <td>West Bengal</td>\n",
              "      <td>14516751.0</td>\n",
              "      <td>NaN</td>\n",
              "      <td>NaN</td>\n",
              "    </tr>\n",
              "  </tbody>\n",
              "</table>\n",
              "<p>15113 rows × 5 columns</p>\n",
              "</div>"
            ],
            "text/plain": [
              "             Date                        State  TotalSamples Negative  \\\n",
              "0      2020-04-17  Andaman and Nicobar Islands        1403.0     1210   \n",
              "1      2020-04-24  Andaman and Nicobar Islands        2679.0      NaN   \n",
              "2      2020-04-27  Andaman and Nicobar Islands        2848.0      NaN   \n",
              "3      2020-05-01  Andaman and Nicobar Islands        3754.0      NaN   \n",
              "4      2020-05-16  Andaman and Nicobar Islands        6677.0      NaN   \n",
              "...           ...                          ...           ...      ...   \n",
              "15108  2021-07-02                  West Bengal    14325099.0      NaN   \n",
              "15109  2021-07-03                  West Bengal    14377860.0      NaN   \n",
              "15110  2021-07-04                  West Bengal    14430084.0      NaN   \n",
              "15111  2021-07-05                  West Bengal    14470472.0      NaN   \n",
              "15112  2021-07-06                  West Bengal    14516751.0      NaN   \n",
              "\n",
              "       Positive  \n",
              "0          12.0  \n",
              "1          27.0  \n",
              "2          33.0  \n",
              "3          33.0  \n",
              "4          33.0  \n",
              "...         ...  \n",
              "15108       NaN  \n",
              "15109       NaN  \n",
              "15110       NaN  \n",
              "15111       NaN  \n",
              "15112       NaN  \n",
              "\n",
              "[15113 rows x 5 columns]"
            ]
          },
          "metadata": {
            "tags": []
          },
          "execution_count": 2
        }
      ]
    },
    {
      "cell_type": "code",
      "metadata": {
        "id": "4fe00db7",
        "outputId": "4cdb7f56-9045-41c0-8056-89f70893c455"
      },
      "source": [
        "# Total cases in india\n",
        "cases = pd.read_csv(\"covid_19_india.csv\")\n",
        "cases"
      ],
      "id": "4fe00db7",
      "execution_count": null,
      "outputs": [
        {
          "output_type": "execute_result",
          "data": {
            "text/html": [
              "<div>\n",
              "<style scoped>\n",
              "    .dataframe tbody tr th:only-of-type {\n",
              "        vertical-align: middle;\n",
              "    }\n",
              "\n",
              "    .dataframe tbody tr th {\n",
              "        vertical-align: top;\n",
              "    }\n",
              "\n",
              "    .dataframe thead th {\n",
              "        text-align: right;\n",
              "    }\n",
              "</style>\n",
              "<table border=\"1\" class=\"dataframe\">\n",
              "  <thead>\n",
              "    <tr style=\"text-align: right;\">\n",
              "      <th></th>\n",
              "      <th>Sno</th>\n",
              "      <th>Date</th>\n",
              "      <th>Time</th>\n",
              "      <th>State/UnionTerritory</th>\n",
              "      <th>ConfirmedIndianNational</th>\n",
              "      <th>ConfirmedForeignNational</th>\n",
              "      <th>Cured</th>\n",
              "      <th>Deaths</th>\n",
              "      <th>Confirmed</th>\n",
              "    </tr>\n",
              "  </thead>\n",
              "  <tbody>\n",
              "    <tr>\n",
              "      <th>0</th>\n",
              "      <td>1</td>\n",
              "      <td>2020-01-30</td>\n",
              "      <td>6:00 PM</td>\n",
              "      <td>Kerala</td>\n",
              "      <td>1</td>\n",
              "      <td>0</td>\n",
              "      <td>0</td>\n",
              "      <td>0</td>\n",
              "      <td>1</td>\n",
              "    </tr>\n",
              "    <tr>\n",
              "      <th>1</th>\n",
              "      <td>2</td>\n",
              "      <td>2020-01-31</td>\n",
              "      <td>6:00 PM</td>\n",
              "      <td>Kerala</td>\n",
              "      <td>1</td>\n",
              "      <td>0</td>\n",
              "      <td>0</td>\n",
              "      <td>0</td>\n",
              "      <td>1</td>\n",
              "    </tr>\n",
              "    <tr>\n",
              "      <th>2</th>\n",
              "      <td>3</td>\n",
              "      <td>2020-02-01</td>\n",
              "      <td>6:00 PM</td>\n",
              "      <td>Kerala</td>\n",
              "      <td>2</td>\n",
              "      <td>0</td>\n",
              "      <td>0</td>\n",
              "      <td>0</td>\n",
              "      <td>2</td>\n",
              "    </tr>\n",
              "    <tr>\n",
              "      <th>3</th>\n",
              "      <td>4</td>\n",
              "      <td>2020-02-02</td>\n",
              "      <td>6:00 PM</td>\n",
              "      <td>Kerala</td>\n",
              "      <td>3</td>\n",
              "      <td>0</td>\n",
              "      <td>0</td>\n",
              "      <td>0</td>\n",
              "      <td>3</td>\n",
              "    </tr>\n",
              "    <tr>\n",
              "      <th>4</th>\n",
              "      <td>5</td>\n",
              "      <td>2020-02-03</td>\n",
              "      <td>6:00 PM</td>\n",
              "      <td>Kerala</td>\n",
              "      <td>3</td>\n",
              "      <td>0</td>\n",
              "      <td>0</td>\n",
              "      <td>0</td>\n",
              "      <td>3</td>\n",
              "    </tr>\n",
              "    <tr>\n",
              "      <th>...</th>\n",
              "      <td>...</td>\n",
              "      <td>...</td>\n",
              "      <td>...</td>\n",
              "      <td>...</td>\n",
              "      <td>...</td>\n",
              "      <td>...</td>\n",
              "      <td>...</td>\n",
              "      <td>...</td>\n",
              "      <td>...</td>\n",
              "    </tr>\n",
              "    <tr>\n",
              "      <th>16845</th>\n",
              "      <td>16846</td>\n",
              "      <td>2021-07-07</td>\n",
              "      <td>8:00 AM</td>\n",
              "      <td>Telangana</td>\n",
              "      <td>-</td>\n",
              "      <td>-</td>\n",
              "      <td>613124</td>\n",
              "      <td>3703</td>\n",
              "      <td>628282</td>\n",
              "    </tr>\n",
              "    <tr>\n",
              "      <th>16846</th>\n",
              "      <td>16847</td>\n",
              "      <td>2021-07-07</td>\n",
              "      <td>8:00 AM</td>\n",
              "      <td>Tripura</td>\n",
              "      <td>-</td>\n",
              "      <td>-</td>\n",
              "      <td>63964</td>\n",
              "      <td>701</td>\n",
              "      <td>68612</td>\n",
              "    </tr>\n",
              "    <tr>\n",
              "      <th>16847</th>\n",
              "      <td>16848</td>\n",
              "      <td>2021-07-07</td>\n",
              "      <td>8:00 AM</td>\n",
              "      <td>Uttarakhand</td>\n",
              "      <td>-</td>\n",
              "      <td>-</td>\n",
              "      <td>332006</td>\n",
              "      <td>7338</td>\n",
              "      <td>340882</td>\n",
              "    </tr>\n",
              "    <tr>\n",
              "      <th>16848</th>\n",
              "      <td>16849</td>\n",
              "      <td>2021-07-07</td>\n",
              "      <td>8:00 AM</td>\n",
              "      <td>Uttar Pradesh</td>\n",
              "      <td>-</td>\n",
              "      <td>-</td>\n",
              "      <td>1682130</td>\n",
              "      <td>22656</td>\n",
              "      <td>1706818</td>\n",
              "    </tr>\n",
              "    <tr>\n",
              "      <th>16849</th>\n",
              "      <td>16850</td>\n",
              "      <td>2021-07-07</td>\n",
              "      <td>8:00 AM</td>\n",
              "      <td>West Bengal</td>\n",
              "      <td>-</td>\n",
              "      <td>-</td>\n",
              "      <td>1472132</td>\n",
              "      <td>17834</td>\n",
              "      <td>1507241</td>\n",
              "    </tr>\n",
              "  </tbody>\n",
              "</table>\n",
              "<p>16850 rows × 9 columns</p>\n",
              "</div>"
            ],
            "text/plain": [
              "         Sno        Date     Time State/UnionTerritory  \\\n",
              "0          1  2020-01-30  6:00 PM               Kerala   \n",
              "1          2  2020-01-31  6:00 PM               Kerala   \n",
              "2          3  2020-02-01  6:00 PM               Kerala   \n",
              "3          4  2020-02-02  6:00 PM               Kerala   \n",
              "4          5  2020-02-03  6:00 PM               Kerala   \n",
              "...      ...         ...      ...                  ...   \n",
              "16845  16846  2021-07-07  8:00 AM            Telangana   \n",
              "16846  16847  2021-07-07  8:00 AM              Tripura   \n",
              "16847  16848  2021-07-07  8:00 AM          Uttarakhand   \n",
              "16848  16849  2021-07-07  8:00 AM        Uttar Pradesh   \n",
              "16849  16850  2021-07-07  8:00 AM          West Bengal   \n",
              "\n",
              "      ConfirmedIndianNational ConfirmedForeignNational    Cured  Deaths  \\\n",
              "0                           1                        0        0       0   \n",
              "1                           1                        0        0       0   \n",
              "2                           2                        0        0       0   \n",
              "3                           3                        0        0       0   \n",
              "4                           3                        0        0       0   \n",
              "...                       ...                      ...      ...     ...   \n",
              "16845                       -                        -   613124    3703   \n",
              "16846                       -                        -    63964     701   \n",
              "16847                       -                        -   332006    7338   \n",
              "16848                       -                        -  1682130   22656   \n",
              "16849                       -                        -  1472132   17834   \n",
              "\n",
              "       Confirmed  \n",
              "0              1  \n",
              "1              1  \n",
              "2              2  \n",
              "3              3  \n",
              "4              3  \n",
              "...          ...  \n",
              "16845     628282  \n",
              "16846      68612  \n",
              "16847     340882  \n",
              "16848    1706818  \n",
              "16849    1507241  \n",
              "\n",
              "[16850 rows x 9 columns]"
            ]
          },
          "metadata": {
            "tags": []
          },
          "execution_count": 3
        }
      ]
    },
    {
      "cell_type": "code",
      "metadata": {
        "id": "50c1e0f1",
        "outputId": "da1aac99-2036-41bc-9d7c-fa7ab5e0e6b3"
      },
      "source": [
        "# Total Vaccination details\n",
        "vaccine = pd.read_csv(\"covid_vaccine_statewise.csv\")\n",
        "vaccine"
      ],
      "id": "50c1e0f1",
      "execution_count": null,
      "outputs": [
        {
          "output_type": "execute_result",
          "data": {
            "text/html": [
              "<div>\n",
              "<style scoped>\n",
              "    .dataframe tbody tr th:only-of-type {\n",
              "        vertical-align: middle;\n",
              "    }\n",
              "\n",
              "    .dataframe tbody tr th {\n",
              "        vertical-align: top;\n",
              "    }\n",
              "\n",
              "    .dataframe thead th {\n",
              "        text-align: right;\n",
              "    }\n",
              "</style>\n",
              "<table border=\"1\" class=\"dataframe\">\n",
              "  <thead>\n",
              "    <tr style=\"text-align: right;\">\n",
              "      <th></th>\n",
              "      <th>Updated On</th>\n",
              "      <th>State</th>\n",
              "      <th>Total Doses Administered</th>\n",
              "      <th>Total Sessions Conducted</th>\n",
              "      <th>Total Sites</th>\n",
              "      <th>First Dose Administered</th>\n",
              "      <th>Second Dose Administered</th>\n",
              "      <th>Male(Individuals Vaccinated)</th>\n",
              "      <th>Female(Individuals Vaccinated)</th>\n",
              "      <th>Transgender(Individuals Vaccinated)</th>\n",
              "      <th>Total Covaxin Administered</th>\n",
              "      <th>Total CoviShield Administered</th>\n",
              "      <th>Total Sputnik V Administered</th>\n",
              "      <th>AEFI</th>\n",
              "      <th>18-45 years (Age)</th>\n",
              "      <th>45-60 years (Age)</th>\n",
              "      <th>60+ years (Age)</th>\n",
              "      <th>Total Individuals Vaccinated</th>\n",
              "    </tr>\n",
              "  </thead>\n",
              "  <tbody>\n",
              "    <tr>\n",
              "      <th>0</th>\n",
              "      <td>16/01/2021</td>\n",
              "      <td>India</td>\n",
              "      <td>48276.0</td>\n",
              "      <td>3455.0</td>\n",
              "      <td>2957.0</td>\n",
              "      <td>48276.0</td>\n",
              "      <td>0.0</td>\n",
              "      <td>23757.0</td>\n",
              "      <td>24517.0</td>\n",
              "      <td>2.0</td>\n",
              "      <td>579.0</td>\n",
              "      <td>47697.0</td>\n",
              "      <td>NaN</td>\n",
              "      <td>NaN</td>\n",
              "      <td>NaN</td>\n",
              "      <td>NaN</td>\n",
              "      <td>NaN</td>\n",
              "      <td>48276.0</td>\n",
              "    </tr>\n",
              "    <tr>\n",
              "      <th>1</th>\n",
              "      <td>17/01/2021</td>\n",
              "      <td>India</td>\n",
              "      <td>58604.0</td>\n",
              "      <td>8532.0</td>\n",
              "      <td>4954.0</td>\n",
              "      <td>58604.0</td>\n",
              "      <td>0.0</td>\n",
              "      <td>27348.0</td>\n",
              "      <td>31252.0</td>\n",
              "      <td>4.0</td>\n",
              "      <td>635.0</td>\n",
              "      <td>57969.0</td>\n",
              "      <td>NaN</td>\n",
              "      <td>NaN</td>\n",
              "      <td>NaN</td>\n",
              "      <td>NaN</td>\n",
              "      <td>NaN</td>\n",
              "      <td>58604.0</td>\n",
              "    </tr>\n",
              "    <tr>\n",
              "      <th>2</th>\n",
              "      <td>18/01/2021</td>\n",
              "      <td>India</td>\n",
              "      <td>99449.0</td>\n",
              "      <td>13611.0</td>\n",
              "      <td>6583.0</td>\n",
              "      <td>99449.0</td>\n",
              "      <td>0.0</td>\n",
              "      <td>41361.0</td>\n",
              "      <td>58083.0</td>\n",
              "      <td>5.0</td>\n",
              "      <td>1299.0</td>\n",
              "      <td>98150.0</td>\n",
              "      <td>NaN</td>\n",
              "      <td>NaN</td>\n",
              "      <td>NaN</td>\n",
              "      <td>NaN</td>\n",
              "      <td>NaN</td>\n",
              "      <td>99449.0</td>\n",
              "    </tr>\n",
              "    <tr>\n",
              "      <th>3</th>\n",
              "      <td>19/01/2021</td>\n",
              "      <td>India</td>\n",
              "      <td>195525.0</td>\n",
              "      <td>17855.0</td>\n",
              "      <td>7951.0</td>\n",
              "      <td>195525.0</td>\n",
              "      <td>0.0</td>\n",
              "      <td>81901.0</td>\n",
              "      <td>113613.0</td>\n",
              "      <td>11.0</td>\n",
              "      <td>3017.0</td>\n",
              "      <td>192508.0</td>\n",
              "      <td>NaN</td>\n",
              "      <td>NaN</td>\n",
              "      <td>NaN</td>\n",
              "      <td>NaN</td>\n",
              "      <td>NaN</td>\n",
              "      <td>195525.0</td>\n",
              "    </tr>\n",
              "    <tr>\n",
              "      <th>4</th>\n",
              "      <td>20/01/2021</td>\n",
              "      <td>India</td>\n",
              "      <td>251280.0</td>\n",
              "      <td>25472.0</td>\n",
              "      <td>10504.0</td>\n",
              "      <td>251280.0</td>\n",
              "      <td>0.0</td>\n",
              "      <td>98111.0</td>\n",
              "      <td>153145.0</td>\n",
              "      <td>24.0</td>\n",
              "      <td>3946.0</td>\n",
              "      <td>247334.0</td>\n",
              "      <td>NaN</td>\n",
              "      <td>NaN</td>\n",
              "      <td>NaN</td>\n",
              "      <td>NaN</td>\n",
              "      <td>NaN</td>\n",
              "      <td>251280.0</td>\n",
              "    </tr>\n",
              "    <tr>\n",
              "      <th>...</th>\n",
              "      <td>...</td>\n",
              "      <td>...</td>\n",
              "      <td>...</td>\n",
              "      <td>...</td>\n",
              "      <td>...</td>\n",
              "      <td>...</td>\n",
              "      <td>...</td>\n",
              "      <td>...</td>\n",
              "      <td>...</td>\n",
              "      <td>...</td>\n",
              "      <td>...</td>\n",
              "      <td>...</td>\n",
              "      <td>...</td>\n",
              "      <td>...</td>\n",
              "      <td>...</td>\n",
              "      <td>...</td>\n",
              "      <td>...</td>\n",
              "      <td>...</td>\n",
              "    </tr>\n",
              "    <tr>\n",
              "      <th>6694</th>\n",
              "      <td>11/07/2021</td>\n",
              "      <td>West Bengal</td>\n",
              "      <td>NaN</td>\n",
              "      <td>NaN</td>\n",
              "      <td>NaN</td>\n",
              "      <td>NaN</td>\n",
              "      <td>NaN</td>\n",
              "      <td>NaN</td>\n",
              "      <td>NaN</td>\n",
              "      <td>NaN</td>\n",
              "      <td>NaN</td>\n",
              "      <td>NaN</td>\n",
              "      <td>NaN</td>\n",
              "      <td>NaN</td>\n",
              "      <td>NaN</td>\n",
              "      <td>NaN</td>\n",
              "      <td>NaN</td>\n",
              "      <td>NaN</td>\n",
              "    </tr>\n",
              "    <tr>\n",
              "      <th>6695</th>\n",
              "      <td>12/07/2021</td>\n",
              "      <td>West Bengal</td>\n",
              "      <td>NaN</td>\n",
              "      <td>NaN</td>\n",
              "      <td>NaN</td>\n",
              "      <td>NaN</td>\n",
              "      <td>NaN</td>\n",
              "      <td>NaN</td>\n",
              "      <td>NaN</td>\n",
              "      <td>NaN</td>\n",
              "      <td>NaN</td>\n",
              "      <td>NaN</td>\n",
              "      <td>NaN</td>\n",
              "      <td>NaN</td>\n",
              "      <td>NaN</td>\n",
              "      <td>NaN</td>\n",
              "      <td>NaN</td>\n",
              "      <td>NaN</td>\n",
              "    </tr>\n",
              "    <tr>\n",
              "      <th>6696</th>\n",
              "      <td>13/07/2021</td>\n",
              "      <td>West Bengal</td>\n",
              "      <td>NaN</td>\n",
              "      <td>NaN</td>\n",
              "      <td>NaN</td>\n",
              "      <td>NaN</td>\n",
              "      <td>NaN</td>\n",
              "      <td>NaN</td>\n",
              "      <td>NaN</td>\n",
              "      <td>NaN</td>\n",
              "      <td>NaN</td>\n",
              "      <td>NaN</td>\n",
              "      <td>NaN</td>\n",
              "      <td>NaN</td>\n",
              "      <td>NaN</td>\n",
              "      <td>NaN</td>\n",
              "      <td>NaN</td>\n",
              "      <td>NaN</td>\n",
              "    </tr>\n",
              "    <tr>\n",
              "      <th>6697</th>\n",
              "      <td>14/07/2021</td>\n",
              "      <td>West Bengal</td>\n",
              "      <td>NaN</td>\n",
              "      <td>NaN</td>\n",
              "      <td>NaN</td>\n",
              "      <td>NaN</td>\n",
              "      <td>NaN</td>\n",
              "      <td>NaN</td>\n",
              "      <td>NaN</td>\n",
              "      <td>NaN</td>\n",
              "      <td>NaN</td>\n",
              "      <td>NaN</td>\n",
              "      <td>NaN</td>\n",
              "      <td>NaN</td>\n",
              "      <td>NaN</td>\n",
              "      <td>NaN</td>\n",
              "      <td>NaN</td>\n",
              "      <td>NaN</td>\n",
              "    </tr>\n",
              "    <tr>\n",
              "      <th>6698</th>\n",
              "      <td>15/07/2021</td>\n",
              "      <td>West Bengal</td>\n",
              "      <td>NaN</td>\n",
              "      <td>NaN</td>\n",
              "      <td>NaN</td>\n",
              "      <td>NaN</td>\n",
              "      <td>NaN</td>\n",
              "      <td>NaN</td>\n",
              "      <td>NaN</td>\n",
              "      <td>NaN</td>\n",
              "      <td>NaN</td>\n",
              "      <td>NaN</td>\n",
              "      <td>NaN</td>\n",
              "      <td>NaN</td>\n",
              "      <td>NaN</td>\n",
              "      <td>NaN</td>\n",
              "      <td>NaN</td>\n",
              "      <td>NaN</td>\n",
              "    </tr>\n",
              "  </tbody>\n",
              "</table>\n",
              "<p>6699 rows × 18 columns</p>\n",
              "</div>"
            ],
            "text/plain": [
              "      Updated On        State  Total Doses Administered  \\\n",
              "0     16/01/2021        India                   48276.0   \n",
              "1     17/01/2021        India                   58604.0   \n",
              "2     18/01/2021        India                   99449.0   \n",
              "3     19/01/2021        India                  195525.0   \n",
              "4     20/01/2021        India                  251280.0   \n",
              "...          ...          ...                       ...   \n",
              "6694  11/07/2021  West Bengal                       NaN   \n",
              "6695  12/07/2021  West Bengal                       NaN   \n",
              "6696  13/07/2021  West Bengal                       NaN   \n",
              "6697  14/07/2021  West Bengal                       NaN   \n",
              "6698  15/07/2021  West Bengal                       NaN   \n",
              "\n",
              "      Total Sessions Conducted  Total Sites   First Dose Administered  \\\n",
              "0                       3455.0        2957.0                  48276.0   \n",
              "1                       8532.0        4954.0                  58604.0   \n",
              "2                      13611.0        6583.0                  99449.0   \n",
              "3                      17855.0        7951.0                 195525.0   \n",
              "4                      25472.0       10504.0                 251280.0   \n",
              "...                        ...           ...                      ...   \n",
              "6694                       NaN           NaN                      NaN   \n",
              "6695                       NaN           NaN                      NaN   \n",
              "6696                       NaN           NaN                      NaN   \n",
              "6697                       NaN           NaN                      NaN   \n",
              "6698                       NaN           NaN                      NaN   \n",
              "\n",
              "      Second Dose Administered  Male(Individuals Vaccinated)  \\\n",
              "0                          0.0                       23757.0   \n",
              "1                          0.0                       27348.0   \n",
              "2                          0.0                       41361.0   \n",
              "3                          0.0                       81901.0   \n",
              "4                          0.0                       98111.0   \n",
              "...                        ...                           ...   \n",
              "6694                       NaN                           NaN   \n",
              "6695                       NaN                           NaN   \n",
              "6696                       NaN                           NaN   \n",
              "6697                       NaN                           NaN   \n",
              "6698                       NaN                           NaN   \n",
              "\n",
              "      Female(Individuals Vaccinated)  Transgender(Individuals Vaccinated)  \\\n",
              "0                            24517.0                                  2.0   \n",
              "1                            31252.0                                  4.0   \n",
              "2                            58083.0                                  5.0   \n",
              "3                           113613.0                                 11.0   \n",
              "4                           153145.0                                 24.0   \n",
              "...                              ...                                  ...   \n",
              "6694                             NaN                                  NaN   \n",
              "6695                             NaN                                  NaN   \n",
              "6696                             NaN                                  NaN   \n",
              "6697                             NaN                                  NaN   \n",
              "6698                             NaN                                  NaN   \n",
              "\n",
              "      Total Covaxin Administered  Total CoviShield Administered  \\\n",
              "0                          579.0                        47697.0   \n",
              "1                          635.0                        57969.0   \n",
              "2                         1299.0                        98150.0   \n",
              "3                         3017.0                       192508.0   \n",
              "4                         3946.0                       247334.0   \n",
              "...                          ...                            ...   \n",
              "6694                         NaN                            NaN   \n",
              "6695                         NaN                            NaN   \n",
              "6696                         NaN                            NaN   \n",
              "6697                         NaN                            NaN   \n",
              "6698                         NaN                            NaN   \n",
              "\n",
              "      Total Sputnik V Administered  AEFI  18-45 years (Age)  \\\n",
              "0                              NaN   NaN                NaN   \n",
              "1                              NaN   NaN                NaN   \n",
              "2                              NaN   NaN                NaN   \n",
              "3                              NaN   NaN                NaN   \n",
              "4                              NaN   NaN                NaN   \n",
              "...                            ...   ...                ...   \n",
              "6694                           NaN   NaN                NaN   \n",
              "6695                           NaN   NaN                NaN   \n",
              "6696                           NaN   NaN                NaN   \n",
              "6697                           NaN   NaN                NaN   \n",
              "6698                           NaN   NaN                NaN   \n",
              "\n",
              "      45-60 years (Age)  60+ years (Age)  Total Individuals Vaccinated  \n",
              "0                   NaN              NaN                       48276.0  \n",
              "1                   NaN              NaN                       58604.0  \n",
              "2                   NaN              NaN                       99449.0  \n",
              "3                   NaN              NaN                      195525.0  \n",
              "4                   NaN              NaN                      251280.0  \n",
              "...                 ...              ...                           ...  \n",
              "6694                NaN              NaN                           NaN  \n",
              "6695                NaN              NaN                           NaN  \n",
              "6696                NaN              NaN                           NaN  \n",
              "6697                NaN              NaN                           NaN  \n",
              "6698                NaN              NaN                           NaN  \n",
              "\n",
              "[6699 rows x 18 columns]"
            ]
          },
          "metadata": {
            "tags": []
          },
          "execution_count": 4
        }
      ]
    },
    {
      "cell_type": "code",
      "metadata": {
        "id": "92f6f3e4",
        "outputId": "0e03c25e-d9ac-4ca0-c2dc-ddc4cb71e344"
      },
      "source": [
        "# Checking the column names of tests file\n",
        "tests.head(4)"
      ],
      "id": "92f6f3e4",
      "execution_count": null,
      "outputs": [
        {
          "output_type": "execute_result",
          "data": {
            "text/html": [
              "<div>\n",
              "<style scoped>\n",
              "    .dataframe tbody tr th:only-of-type {\n",
              "        vertical-align: middle;\n",
              "    }\n",
              "\n",
              "    .dataframe tbody tr th {\n",
              "        vertical-align: top;\n",
              "    }\n",
              "\n",
              "    .dataframe thead th {\n",
              "        text-align: right;\n",
              "    }\n",
              "</style>\n",
              "<table border=\"1\" class=\"dataframe\">\n",
              "  <thead>\n",
              "    <tr style=\"text-align: right;\">\n",
              "      <th></th>\n",
              "      <th>Date</th>\n",
              "      <th>State</th>\n",
              "      <th>TotalSamples</th>\n",
              "      <th>Negative</th>\n",
              "      <th>Positive</th>\n",
              "    </tr>\n",
              "  </thead>\n",
              "  <tbody>\n",
              "    <tr>\n",
              "      <th>0</th>\n",
              "      <td>2020-04-17</td>\n",
              "      <td>Andaman and Nicobar Islands</td>\n",
              "      <td>1403.0</td>\n",
              "      <td>1210</td>\n",
              "      <td>12.0</td>\n",
              "    </tr>\n",
              "    <tr>\n",
              "      <th>1</th>\n",
              "      <td>2020-04-24</td>\n",
              "      <td>Andaman and Nicobar Islands</td>\n",
              "      <td>2679.0</td>\n",
              "      <td>NaN</td>\n",
              "      <td>27.0</td>\n",
              "    </tr>\n",
              "    <tr>\n",
              "      <th>2</th>\n",
              "      <td>2020-04-27</td>\n",
              "      <td>Andaman and Nicobar Islands</td>\n",
              "      <td>2848.0</td>\n",
              "      <td>NaN</td>\n",
              "      <td>33.0</td>\n",
              "    </tr>\n",
              "    <tr>\n",
              "      <th>3</th>\n",
              "      <td>2020-05-01</td>\n",
              "      <td>Andaman and Nicobar Islands</td>\n",
              "      <td>3754.0</td>\n",
              "      <td>NaN</td>\n",
              "      <td>33.0</td>\n",
              "    </tr>\n",
              "  </tbody>\n",
              "</table>\n",
              "</div>"
            ],
            "text/plain": [
              "         Date                        State  TotalSamples Negative  Positive\n",
              "0  2020-04-17  Andaman and Nicobar Islands        1403.0     1210      12.0\n",
              "1  2020-04-24  Andaman and Nicobar Islands        2679.0      NaN      27.0\n",
              "2  2020-04-27  Andaman and Nicobar Islands        2848.0      NaN      33.0\n",
              "3  2020-05-01  Andaman and Nicobar Islands        3754.0      NaN      33.0"
            ]
          },
          "metadata": {
            "tags": []
          },
          "execution_count": 5
        }
      ]
    },
    {
      "cell_type": "code",
      "metadata": {
        "id": "bcace582",
        "outputId": "0aa7e452-8404-471f-b319-d3a32bc329a7"
      },
      "source": [
        "# Checking the column names of Vaccine file\n",
        "\n",
        "vaccine.head(4)"
      ],
      "id": "bcace582",
      "execution_count": null,
      "outputs": [
        {
          "output_type": "execute_result",
          "data": {
            "text/html": [
              "<div>\n",
              "<style scoped>\n",
              "    .dataframe tbody tr th:only-of-type {\n",
              "        vertical-align: middle;\n",
              "    }\n",
              "\n",
              "    .dataframe tbody tr th {\n",
              "        vertical-align: top;\n",
              "    }\n",
              "\n",
              "    .dataframe thead th {\n",
              "        text-align: right;\n",
              "    }\n",
              "</style>\n",
              "<table border=\"1\" class=\"dataframe\">\n",
              "  <thead>\n",
              "    <tr style=\"text-align: right;\">\n",
              "      <th></th>\n",
              "      <th>Updated On</th>\n",
              "      <th>State</th>\n",
              "      <th>Total Doses Administered</th>\n",
              "      <th>Total Sessions Conducted</th>\n",
              "      <th>Total Sites</th>\n",
              "      <th>First Dose Administered</th>\n",
              "      <th>Second Dose Administered</th>\n",
              "      <th>Male(Individuals Vaccinated)</th>\n",
              "      <th>Female(Individuals Vaccinated)</th>\n",
              "      <th>Transgender(Individuals Vaccinated)</th>\n",
              "      <th>Total Covaxin Administered</th>\n",
              "      <th>Total CoviShield Administered</th>\n",
              "      <th>Total Sputnik V Administered</th>\n",
              "      <th>AEFI</th>\n",
              "      <th>18-45 years (Age)</th>\n",
              "      <th>45-60 years (Age)</th>\n",
              "      <th>60+ years (Age)</th>\n",
              "      <th>Total Individuals Vaccinated</th>\n",
              "    </tr>\n",
              "  </thead>\n",
              "  <tbody>\n",
              "    <tr>\n",
              "      <th>0</th>\n",
              "      <td>16/01/2021</td>\n",
              "      <td>India</td>\n",
              "      <td>48276.0</td>\n",
              "      <td>3455.0</td>\n",
              "      <td>2957.0</td>\n",
              "      <td>48276.0</td>\n",
              "      <td>0.0</td>\n",
              "      <td>23757.0</td>\n",
              "      <td>24517.0</td>\n",
              "      <td>2.0</td>\n",
              "      <td>579.0</td>\n",
              "      <td>47697.0</td>\n",
              "      <td>NaN</td>\n",
              "      <td>NaN</td>\n",
              "      <td>NaN</td>\n",
              "      <td>NaN</td>\n",
              "      <td>NaN</td>\n",
              "      <td>48276.0</td>\n",
              "    </tr>\n",
              "    <tr>\n",
              "      <th>1</th>\n",
              "      <td>17/01/2021</td>\n",
              "      <td>India</td>\n",
              "      <td>58604.0</td>\n",
              "      <td>8532.0</td>\n",
              "      <td>4954.0</td>\n",
              "      <td>58604.0</td>\n",
              "      <td>0.0</td>\n",
              "      <td>27348.0</td>\n",
              "      <td>31252.0</td>\n",
              "      <td>4.0</td>\n",
              "      <td>635.0</td>\n",
              "      <td>57969.0</td>\n",
              "      <td>NaN</td>\n",
              "      <td>NaN</td>\n",
              "      <td>NaN</td>\n",
              "      <td>NaN</td>\n",
              "      <td>NaN</td>\n",
              "      <td>58604.0</td>\n",
              "    </tr>\n",
              "    <tr>\n",
              "      <th>2</th>\n",
              "      <td>18/01/2021</td>\n",
              "      <td>India</td>\n",
              "      <td>99449.0</td>\n",
              "      <td>13611.0</td>\n",
              "      <td>6583.0</td>\n",
              "      <td>99449.0</td>\n",
              "      <td>0.0</td>\n",
              "      <td>41361.0</td>\n",
              "      <td>58083.0</td>\n",
              "      <td>5.0</td>\n",
              "      <td>1299.0</td>\n",
              "      <td>98150.0</td>\n",
              "      <td>NaN</td>\n",
              "      <td>NaN</td>\n",
              "      <td>NaN</td>\n",
              "      <td>NaN</td>\n",
              "      <td>NaN</td>\n",
              "      <td>99449.0</td>\n",
              "    </tr>\n",
              "    <tr>\n",
              "      <th>3</th>\n",
              "      <td>19/01/2021</td>\n",
              "      <td>India</td>\n",
              "      <td>195525.0</td>\n",
              "      <td>17855.0</td>\n",
              "      <td>7951.0</td>\n",
              "      <td>195525.0</td>\n",
              "      <td>0.0</td>\n",
              "      <td>81901.0</td>\n",
              "      <td>113613.0</td>\n",
              "      <td>11.0</td>\n",
              "      <td>3017.0</td>\n",
              "      <td>192508.0</td>\n",
              "      <td>NaN</td>\n",
              "      <td>NaN</td>\n",
              "      <td>NaN</td>\n",
              "      <td>NaN</td>\n",
              "      <td>NaN</td>\n",
              "      <td>195525.0</td>\n",
              "    </tr>\n",
              "  </tbody>\n",
              "</table>\n",
              "</div>"
            ],
            "text/plain": [
              "   Updated On  State  Total Doses Administered  Total Sessions Conducted  \\\n",
              "0  16/01/2021  India                   48276.0                    3455.0   \n",
              "1  17/01/2021  India                   58604.0                    8532.0   \n",
              "2  18/01/2021  India                   99449.0                   13611.0   \n",
              "3  19/01/2021  India                  195525.0                   17855.0   \n",
              "\n",
              "   Total Sites   First Dose Administered  Second Dose Administered  \\\n",
              "0        2957.0                  48276.0                       0.0   \n",
              "1        4954.0                  58604.0                       0.0   \n",
              "2        6583.0                  99449.0                       0.0   \n",
              "3        7951.0                 195525.0                       0.0   \n",
              "\n",
              "   Male(Individuals Vaccinated)  Female(Individuals Vaccinated)  \\\n",
              "0                       23757.0                         24517.0   \n",
              "1                       27348.0                         31252.0   \n",
              "2                       41361.0                         58083.0   \n",
              "3                       81901.0                        113613.0   \n",
              "\n",
              "   Transgender(Individuals Vaccinated)  Total Covaxin Administered  \\\n",
              "0                                  2.0                       579.0   \n",
              "1                                  4.0                       635.0   \n",
              "2                                  5.0                      1299.0   \n",
              "3                                 11.0                      3017.0   \n",
              "\n",
              "   Total CoviShield Administered  Total Sputnik V Administered  AEFI  \\\n",
              "0                        47697.0                           NaN   NaN   \n",
              "1                        57969.0                           NaN   NaN   \n",
              "2                        98150.0                           NaN   NaN   \n",
              "3                       192508.0                           NaN   NaN   \n",
              "\n",
              "   18-45 years (Age)  45-60 years (Age)  60+ years (Age)  \\\n",
              "0                NaN                NaN              NaN   \n",
              "1                NaN                NaN              NaN   \n",
              "2                NaN                NaN              NaN   \n",
              "3                NaN                NaN              NaN   \n",
              "\n",
              "   Total Individuals Vaccinated  \n",
              "0                       48276.0  \n",
              "1                       58604.0  \n",
              "2                       99449.0  \n",
              "3                      195525.0  "
            ]
          },
          "metadata": {
            "tags": []
          },
          "execution_count": 6
        }
      ]
    },
    {
      "cell_type": "code",
      "metadata": {
        "id": "77a2f0e8",
        "outputId": "44794583-8cfe-44eb-d118-ecfce29379f2"
      },
      "source": [
        "# Checking the information of tests file\n",
        "\n",
        "tests.info()"
      ],
      "id": "77a2f0e8",
      "execution_count": null,
      "outputs": [
        {
          "output_type": "stream",
          "text": [
            "<class 'pandas.core.frame.DataFrame'>\n",
            "RangeIndex: 15113 entries, 0 to 15112\n",
            "Data columns (total 5 columns):\n",
            " #   Column        Non-Null Count  Dtype  \n",
            "---  ------        --------------  -----  \n",
            " 0   Date          15113 non-null  object \n",
            " 1   State         15113 non-null  object \n",
            " 2   TotalSamples  15113 non-null  float64\n",
            " 3   Negative      6657 non-null   object \n",
            " 4   Positive      5589 non-null   float64\n",
            "dtypes: float64(2), object(3)\n",
            "memory usage: 590.5+ KB\n"
          ],
          "name": "stdout"
        }
      ]
    },
    {
      "cell_type": "code",
      "metadata": {
        "id": "fe366ad1"
      },
      "source": [
        "# grouping the states in tests file to check the state wise positive cases\n",
        "state_positive = tests.groupby([\"State\"]).Positive.sum()"
      ],
      "id": "fe366ad1",
      "execution_count": null,
      "outputs": []
    },
    {
      "cell_type": "code",
      "metadata": {
        "id": "f73805b7",
        "outputId": "fd037bf1-e62c-4b9d-e10a-f69b9b791ad3"
      },
      "source": [
        "#plotting the result\n",
        "state_positive.plot(kind= \"hist\", figsize = (20,10))"
      ],
      "id": "f73805b7",
      "execution_count": null,
      "outputs": [
        {
          "output_type": "execute_result",
          "data": {
            "text/plain": [
              "<AxesSubplot:ylabel='Frequency'>"
            ]
          },
          "metadata": {
            "tags": []
          },
          "execution_count": 9
        },
        {
          "output_type": "display_data",
          "data": {
            "image/png": "[encoded data removed]",
            "text/plain": [
              "<Figure size 1440x720 with 1 Axes>"
            ]
          },
          "metadata": {
            "tags": [],
            "needs_background": "light"
          }
        }
      ]
    },
    {
      "cell_type": "code",
      "metadata": {
        "id": "a4f22055",
        "outputId": "f50979bd-ba2a-4b39-877c-139230ddfb2b"
      },
      "source": [
        "# Information about the cases file\n",
        "cases.info()"
      ],
      "id": "a4f22055",
      "execution_count": null,
      "outputs": [
        {
          "output_type": "stream",
          "text": [
            "<class 'pandas.core.frame.DataFrame'>\n",
            "RangeIndex: 16850 entries, 0 to 16849\n",
            "Data columns (total 9 columns):\n",
            " #   Column                    Non-Null Count  Dtype \n",
            "---  ------                    --------------  ----- \n",
            " 0   Sno                       16850 non-null  int64 \n",
            " 1   Date                      16850 non-null  object\n",
            " 2   Time                      16850 non-null  object\n",
            " 3   State/UnionTerritory      16850 non-null  object\n",
            " 4   ConfirmedIndianNational   16850 non-null  object\n",
            " 5   ConfirmedForeignNational  16850 non-null  object\n",
            " 6   Cured                     16850 non-null  int64 \n",
            " 7   Deaths                    16850 non-null  int64 \n",
            " 8   Confirmed                 16850 non-null  int64 \n",
            "dtypes: int64(4), object(5)\n",
            "memory usage: 1.2+ MB\n"
          ],
          "name": "stdout"
        }
      ]
    },
    {
      "cell_type": "code",
      "metadata": {
        "id": "513aa982",
        "outputId": "dd96acf3-de7d-4ca2-81aa-dde5083c6255"
      },
      "source": [
        "# Description about the cases file.\n",
        "cases.describe()"
      ],
      "id": "513aa982",
      "execution_count": null,
      "outputs": [
        {
          "output_type": "execute_result",
          "data": {
            "text/html": [
              "<div>\n",
              "<style scoped>\n",
              "    .dataframe tbody tr th:only-of-type {\n",
              "        vertical-align: middle;\n",
              "    }\n",
              "\n",
              "    .dataframe tbody tr th {\n",
              "        vertical-align: top;\n",
              "    }\n",
              "\n",
              "    .dataframe thead th {\n",
              "        text-align: right;\n",
              "    }\n",
              "</style>\n",
              "<table border=\"1\" class=\"dataframe\">\n",
              "  <thead>\n",
              "    <tr style=\"text-align: right;\">\n",
              "      <th></th>\n",
              "      <th>Sno</th>\n",
              "      <th>Cured</th>\n",
              "      <th>Deaths</th>\n",
              "      <th>Confirmed</th>\n",
              "    </tr>\n",
              "  </thead>\n",
              "  <tbody>\n",
              "    <tr>\n",
              "      <th>count</th>\n",
              "      <td>16850.000000</td>\n",
              "      <td>1.685000e+04</td>\n",
              "      <td>16850.000000</td>\n",
              "      <td>1.685000e+04</td>\n",
              "    </tr>\n",
              "    <tr>\n",
              "      <th>mean</th>\n",
              "      <td>8425.500000</td>\n",
              "      <td>2.360353e+05</td>\n",
              "      <td>3485.222552</td>\n",
              "      <td>2.583667e+05</td>\n",
              "    </tr>\n",
              "    <tr>\n",
              "      <th>std</th>\n",
              "      <td>4864.320353</td>\n",
              "      <td>5.225438e+05</td>\n",
              "      <td>9330.541749</td>\n",
              "      <td>5.672808e+05</td>\n",
              "    </tr>\n",
              "    <tr>\n",
              "      <th>min</th>\n",
              "      <td>1.000000</td>\n",
              "      <td>0.000000e+00</td>\n",
              "      <td>0.000000</td>\n",
              "      <td>0.000000e+00</td>\n",
              "    </tr>\n",
              "    <tr>\n",
              "      <th>25%</th>\n",
              "      <td>4213.250000</td>\n",
              "      <td>2.658500e+03</td>\n",
              "      <td>22.000000</td>\n",
              "      <td>3.644750e+03</td>\n",
              "    </tr>\n",
              "    <tr>\n",
              "      <th>50%</th>\n",
              "      <td>8425.500000</td>\n",
              "      <td>2.889500e+04</td>\n",
              "      <td>453.000000</td>\n",
              "      <td>3.336150e+04</td>\n",
              "    </tr>\n",
              "    <tr>\n",
              "      <th>75%</th>\n",
              "      <td>12637.750000</td>\n",
              "      <td>2.537510e+05</td>\n",
              "      <td>3071.250000</td>\n",
              "      <td>2.666530e+05</td>\n",
              "    </tr>\n",
              "    <tr>\n",
              "      <th>max</th>\n",
              "      <td>16850.000000</td>\n",
              "      <td>5.872268e+06</td>\n",
              "      <td>123531.000000</td>\n",
              "      <td>6.113335e+06</td>\n",
              "    </tr>\n",
              "  </tbody>\n",
              "</table>\n",
              "</div>"
            ],
            "text/plain": [
              "                Sno         Cured         Deaths     Confirmed\n",
              "count  16850.000000  1.685000e+04   16850.000000  1.685000e+04\n",
              "mean    8425.500000  2.360353e+05    3485.222552  2.583667e+05\n",
              "std     4864.320353  5.225438e+05    9330.541749  5.672808e+05\n",
              "min        1.000000  0.000000e+00       0.000000  0.000000e+00\n",
              "25%     4213.250000  2.658500e+03      22.000000  3.644750e+03\n",
              "50%     8425.500000  2.889500e+04     453.000000  3.336150e+04\n",
              "75%    12637.750000  2.537510e+05    3071.250000  2.666530e+05\n",
              "max    16850.000000  5.872268e+06  123531.000000  6.113335e+06"
            ]
          },
          "metadata": {
            "tags": []
          },
          "execution_count": 11
        }
      ]
    },
    {
      "cell_type": "code",
      "metadata": {
        "id": "b22f7b5c",
        "outputId": "1e8c9fc5-b09e-4664-e5ad-95c8ad141e61"
      },
      "source": [
        "# checking the colomns of cases file\n",
        "cases.head(2)"
      ],
      "id": "b22f7b5c",
      "execution_count": null,
      "outputs": [
        {
          "output_type": "execute_result",
          "data": {
            "text/html": [
              "<div>\n",
              "<style scoped>\n",
              "    .dataframe tbody tr th:only-of-type {\n",
              "        vertical-align: middle;\n",
              "    }\n",
              "\n",
              "    .dataframe tbody tr th {\n",
              "        vertical-align: top;\n",
              "    }\n",
              "\n",
              "    .dataframe thead th {\n",
              "        text-align: right;\n",
              "    }\n",
              "</style>\n",
              "<table border=\"1\" class=\"dataframe\">\n",
              "  <thead>\n",
              "    <tr style=\"text-align: right;\">\n",
              "      <th></th>\n",
              "      <th>Sno</th>\n",
              "      <th>Date</th>\n",
              "      <th>Time</th>\n",
              "      <th>State/UnionTerritory</th>\n",
              "      <th>ConfirmedIndianNational</th>\n",
              "      <th>ConfirmedForeignNational</th>\n",
              "      <th>Cured</th>\n",
              "      <th>Deaths</th>\n",
              "      <th>Confirmed</th>\n",
              "    </tr>\n",
              "  </thead>\n",
              "  <tbody>\n",
              "    <tr>\n",
              "      <th>0</th>\n",
              "      <td>1</td>\n",
              "      <td>2020-01-30</td>\n",
              "      <td>6:00 PM</td>\n",
              "      <td>Kerala</td>\n",
              "      <td>1</td>\n",
              "      <td>0</td>\n",
              "      <td>0</td>\n",
              "      <td>0</td>\n",
              "      <td>1</td>\n",
              "    </tr>\n",
              "    <tr>\n",
              "      <th>1</th>\n",
              "      <td>2</td>\n",
              "      <td>2020-01-31</td>\n",
              "      <td>6:00 PM</td>\n",
              "      <td>Kerala</td>\n",
              "      <td>1</td>\n",
              "      <td>0</td>\n",
              "      <td>0</td>\n",
              "      <td>0</td>\n",
              "      <td>1</td>\n",
              "    </tr>\n",
              "  </tbody>\n",
              "</table>\n",
              "</div>"
            ],
            "text/plain": [
              "   Sno        Date     Time State/UnionTerritory ConfirmedIndianNational  \\\n",
              "0    1  2020-01-30  6:00 PM               Kerala                       1   \n",
              "1    2  2020-01-31  6:00 PM               Kerala                       1   \n",
              "\n",
              "  ConfirmedForeignNational  Cured  Deaths  Confirmed  \n",
              "0                        0      0       0          1  \n",
              "1                        0      0       0          1  "
            ]
          },
          "metadata": {
            "tags": []
          },
          "execution_count": 12
        }
      ]
    },
    {
      "cell_type": "code",
      "metadata": {
        "id": "52f31070"
      },
      "source": [
        "# creating a new column \"Active\" to see the active cases of each state\n",
        "cases[\"Active\"] = cases.Confirmed - (cases.Cured+cases.Deaths)"
      ],
      "id": "52f31070",
      "execution_count": null,
      "outputs": []
    },
    {
      "cell_type": "code",
      "metadata": {
        "id": "05531870",
        "outputId": "938604f3-a001-40df-c119-9a5bb410eb94"
      },
      "source": [
        "#confirming the change\n",
        "cases.head(4)"
      ],
      "id": "05531870",
      "execution_count": null,
      "outputs": [
        {
          "output_type": "execute_result",
          "data": {
            "text/html": [
              "<div>\n",
              "<style scoped>\n",
              "    .dataframe tbody tr th:only-of-type {\n",
              "        vertical-align: middle;\n",
              "    }\n",
              "\n",
              "    .dataframe tbody tr th {\n",
              "        vertical-align: top;\n",
              "    }\n",
              "\n",
              "    .dataframe thead th {\n",
              "        text-align: right;\n",
              "    }\n",
              "</style>\n",
              "<table border=\"1\" class=\"dataframe\">\n",
              "  <thead>\n",
              "    <tr style=\"text-align: right;\">\n",
              "      <th></th>\n",
              "      <th>Sno</th>\n",
              "      <th>Date</th>\n",
              "      <th>Time</th>\n",
              "      <th>State/UnionTerritory</th>\n",
              "      <th>ConfirmedIndianNational</th>\n",
              "      <th>ConfirmedForeignNational</th>\n",
              "      <th>Cured</th>\n",
              "      <th>Deaths</th>\n",
              "      <th>Confirmed</th>\n",
              "      <th>Active</th>\n",
              "    </tr>\n",
              "  </thead>\n",
              "  <tbody>\n",
              "    <tr>\n",
              "      <th>0</th>\n",
              "      <td>1</td>\n",
              "      <td>2020-01-30</td>\n",
              "      <td>6:00 PM</td>\n",
              "      <td>Kerala</td>\n",
              "      <td>1</td>\n",
              "      <td>0</td>\n",
              "      <td>0</td>\n",
              "      <td>0</td>\n",
              "      <td>1</td>\n",
              "      <td>1</td>\n",
              "    </tr>\n",
              "    <tr>\n",
              "      <th>1</th>\n",
              "      <td>2</td>\n",
              "      <td>2020-01-31</td>\n",
              "      <td>6:00 PM</td>\n",
              "      <td>Kerala</td>\n",
              "      <td>1</td>\n",
              "      <td>0</td>\n",
              "      <td>0</td>\n",
              "      <td>0</td>\n",
              "      <td>1</td>\n",
              "      <td>1</td>\n",
              "    </tr>\n",
              "    <tr>\n",
              "      <th>2</th>\n",
              "      <td>3</td>\n",
              "      <td>2020-02-01</td>\n",
              "      <td>6:00 PM</td>\n",
              "      <td>Kerala</td>\n",
              "      <td>2</td>\n",
              "      <td>0</td>\n",
              "      <td>0</td>\n",
              "      <td>0</td>\n",
              "      <td>2</td>\n",
              "      <td>2</td>\n",
              "    </tr>\n",
              "    <tr>\n",
              "      <th>3</th>\n",
              "      <td>4</td>\n",
              "      <td>2020-02-02</td>\n",
              "      <td>6:00 PM</td>\n",
              "      <td>Kerala</td>\n",
              "      <td>3</td>\n",
              "      <td>0</td>\n",
              "      <td>0</td>\n",
              "      <td>0</td>\n",
              "      <td>3</td>\n",
              "      <td>3</td>\n",
              "    </tr>\n",
              "  </tbody>\n",
              "</table>\n",
              "</div>"
            ],
            "text/plain": [
              "   Sno        Date     Time State/UnionTerritory ConfirmedIndianNational  \\\n",
              "0    1  2020-01-30  6:00 PM               Kerala                       1   \n",
              "1    2  2020-01-31  6:00 PM               Kerala                       1   \n",
              "2    3  2020-02-01  6:00 PM               Kerala                       2   \n",
              "3    4  2020-02-02  6:00 PM               Kerala                       3   \n",
              "\n",
              "  ConfirmedForeignNational  Cured  Deaths  Confirmed  Active  \n",
              "0                        0      0       0          1       1  \n",
              "1                        0      0       0          1       1  \n",
              "2                        0      0       0          2       2  \n",
              "3                        0      0       0          3       3  "
            ]
          },
          "metadata": {
            "tags": []
          },
          "execution_count": 14
        }
      ]
    },
    {
      "cell_type": "code",
      "metadata": {
        "id": "be546437",
        "outputId": "c955d877-2927-4952-aba6-612824053f12"
      },
      "source": [
        "# Calculating the sum of Active cases\n",
        "cases.Active.sum()"
      ],
      "id": "be546437",
      "execution_count": null,
      "outputs": [
        {
          "output_type": "execute_result",
          "data": {
            "text/plain": [
              "317557938"
            ]
          },
          "metadata": {
            "tags": []
          },
          "execution_count": 15
        }
      ]
    },
    {
      "cell_type": "code",
      "metadata": {
        "id": "eb855eec",
        "outputId": "e2f30474-e289-4e71-a6ea-3b32f10b5dc2"
      },
      "source": [
        "#calculating the sum of deaths\n",
        "cases.Deaths.sum()"
      ],
      "id": "eb855eec",
      "execution_count": null,
      "outputs": [
        {
          "output_type": "execute_result",
          "data": {
            "text/plain": [
              "58726000"
            ]
          },
          "metadata": {
            "tags": []
          },
          "execution_count": 16
        }
      ]
    },
    {
      "cell_type": "code",
      "metadata": {
        "id": "63bb8eee",
        "outputId": "ecd972ec-8e33-4bd1-aa48-912d1070dfac"
      },
      "source": [
        "#calcluating the sum of cured\n",
        "cases.Cured.sum()"
      ],
      "id": "63bb8eee",
      "execution_count": null,
      "outputs": [
        {
          "output_type": "execute_result",
          "data": {
            "text/plain": [
              "3977194136"
            ]
          },
          "metadata": {
            "tags": []
          },
          "execution_count": 17
        }
      ]
    },
    {
      "cell_type": "code",
      "metadata": {
        "id": "9249c0d1",
        "outputId": "8f4c3964-5901-499b-e2b6-558a6f45be92"
      },
      "source": [
        "#calculating the sum of confirmed\n",
        "cases.Confirmed.sum()"
      ],
      "id": "9249c0d1",
      "execution_count": null,
      "outputs": [
        {
          "output_type": "execute_result",
          "data": {
            "text/plain": [
              "4353478074"
            ]
          },
          "metadata": {
            "tags": []
          },
          "execution_count": 18
        }
      ]
    },
    {
      "cell_type": "code",
      "metadata": {
        "id": "82fab0aa"
      },
      "source": [
        "#renaming the state column for easy purpose\n",
        "cases.rename(columns={\"State/UnionTerritory\":\"State\"},inplace=True)"
      ],
      "id": "82fab0aa",
      "execution_count": null,
      "outputs": []
    },
    {
      "cell_type": "code",
      "metadata": {
        "id": "9b8fc80e",
        "outputId": "aab8b60a-4c31-4cda-8aa9-4be3d4a2fc7e"
      },
      "source": [
        "#confirming the chage\n",
        "cases.head(2)"
      ],
      "id": "9b8fc80e",
      "execution_count": null,
      "outputs": [
        {
          "output_type": "execute_result",
          "data": {
            "text/html": [
              "<div>\n",
              "<style scoped>\n",
              "    .dataframe tbody tr th:only-of-type {\n",
              "        vertical-align: middle;\n",
              "    }\n",
              "\n",
              "    .dataframe tbody tr th {\n",
              "        vertical-align: top;\n",
              "    }\n",
              "\n",
              "    .dataframe thead th {\n",
              "        text-align: right;\n",
              "    }\n",
              "</style>\n",
              "<table border=\"1\" class=\"dataframe\">\n",
              "  <thead>\n",
              "    <tr style=\"text-align: right;\">\n",
              "      <th></th>\n",
              "      <th>Sno</th>\n",
              "      <th>Date</th>\n",
              "      <th>Time</th>\n",
              "      <th>State</th>\n",
              "      <th>ConfirmedIndianNational</th>\n",
              "      <th>ConfirmedForeignNational</th>\n",
              "      <th>Cured</th>\n",
              "      <th>Deaths</th>\n",
              "      <th>Confirmed</th>\n",
              "      <th>Active</th>\n",
              "    </tr>\n",
              "  </thead>\n",
              "  <tbody>\n",
              "    <tr>\n",
              "      <th>0</th>\n",
              "      <td>1</td>\n",
              "      <td>2020-01-30</td>\n",
              "      <td>6:00 PM</td>\n",
              "      <td>Kerala</td>\n",
              "      <td>1</td>\n",
              "      <td>0</td>\n",
              "      <td>0</td>\n",
              "      <td>0</td>\n",
              "      <td>1</td>\n",
              "      <td>1</td>\n",
              "    </tr>\n",
              "    <tr>\n",
              "      <th>1</th>\n",
              "      <td>2</td>\n",
              "      <td>2020-01-31</td>\n",
              "      <td>6:00 PM</td>\n",
              "      <td>Kerala</td>\n",
              "      <td>1</td>\n",
              "      <td>0</td>\n",
              "      <td>0</td>\n",
              "      <td>0</td>\n",
              "      <td>1</td>\n",
              "      <td>1</td>\n",
              "    </tr>\n",
              "  </tbody>\n",
              "</table>\n",
              "</div>"
            ],
            "text/plain": [
              "   Sno        Date     Time   State ConfirmedIndianNational  \\\n",
              "0    1  2020-01-30  6:00 PM  Kerala                       1   \n",
              "1    2  2020-01-31  6:00 PM  Kerala                       1   \n",
              "\n",
              "  ConfirmedForeignNational  Cured  Deaths  Confirmed  Active  \n",
              "0                        0      0       0          1       1  \n",
              "1                        0      0       0          1       1  "
            ]
          },
          "metadata": {
            "tags": []
          },
          "execution_count": 20
        }
      ]
    },
    {
      "cell_type": "code",
      "metadata": {
        "id": "0049a626"
      },
      "source": [
        "# grouping the states in cases file to check the state wise death cases\n",
        "# Here taking the max() because the count is the addition of each day\n",
        "\n",
        "Deaths_Statewise= cases.groupby(\"State\").Deaths.max().sort_values()"
      ],
      "id": "0049a626",
      "execution_count": null,
      "outputs": []
    },
    {
      "cell_type": "code",
      "metadata": {
        "id": "a0a11521",
        "outputId": "a3992a57-50b6-47c8-c093-f33391d4dfff"
      },
      "source": [
        "#Plotting the deaths Vs state\n",
        "Deaths_Statewise.plot(kind=\"bar\",figsize=(15,5))\n",
        "plt.xlabel(\"States\")\n",
        "plt.ylabel(\"No.of Deaths\")"
      ],
      "id": "a0a11521",
      "execution_count": null,
      "outputs": [
        {
          "output_type": "execute_result",
          "data": {
            "text/plain": [
              "Text(0, 0.5, 'No.of Deaths')"
            ]
          },
          "metadata": {
            "tags": []
          },
          "execution_count": 22
        },
        {
          "output_type": "display_data",
          "data": {
            "image/png": "[encoded data removed]",
            "text/plain": [
              "<Figure size 1080x360 with 1 Axes>"
            ]
          },
          "metadata": {
            "tags": [],
            "needs_background": "light"
          }
        }
      ]
    },
    {
      "cell_type": "code",
      "metadata": {
        "id": "651d11f4"
      },
      "source": [
        "# grouping the states in cases file to check the state wise Active cases\n",
        "\n",
        "Active_Statewise = cases.groupby(\"State\").Active.max().sort_values()"
      ],
      "id": "651d11f4",
      "execution_count": null,
      "outputs": []
    },
    {
      "cell_type": "code",
      "metadata": {
        "id": "d98d1b42",
        "outputId": "7faafc99-3696-4c05-a50d-3fd337d5e539"
      },
      "source": [
        "#plot\n",
        "Active_Statewise.plot(kind=\"bar\",figsize=(15,10))"
      ],
      "id": "d98d1b42",
      "execution_count": null,
      "outputs": [
        {
          "output_type": "execute_result",
          "data": {
            "text/plain": [
              "<AxesSubplot:xlabel='State'>"
            ]
          },
          "metadata": {
            "tags": []
          },
          "execution_count": 24
        },
        {
          "output_type": "display_data",
          "data": {
            "image/png": "[encoded data removed]",
            "text/plain": [
              "<Figure size 1080x720 with 1 Axes>"
            ]
          },
          "metadata": {
            "tags": [],
            "needs_background": "light"
          }
        }
      ]
    },
    {
      "cell_type": "code",
      "metadata": {
        "id": "373353ee"
      },
      "source": [
        "# grouping the states in cases file to check the state wise cured cases\n",
        "\n",
        "Cured_Statewise= cases.groupby(\"State\").Cured.max().sort_values()"
      ],
      "id": "373353ee",
      "execution_count": null,
      "outputs": []
    },
    {
      "cell_type": "code",
      "metadata": {
        "id": "43898dbe",
        "outputId": "5062c09d-a6b8-4663-e00a-7663ca554c40"
      },
      "source": [
        "#plot\n",
        "Cured_Statewise.plot(kind=\"bar\",figsize=(15,5),ylim=(0,6000000))"
      ],
      "id": "43898dbe",
      "execution_count": null,
      "outputs": [
        {
          "output_type": "execute_result",
          "data": {
            "text/plain": [
              "<AxesSubplot:xlabel='State'>"
            ]
          },
          "metadata": {
            "tags": []
          },
          "execution_count": 26
        },
        {
          "output_type": "display_data",
          "data": {
            "image/png": "[encoded data removed]",
            "text/plain": [
              "<Figure size 1080x360 with 1 Axes>"
            ]
          },
          "metadata": {
            "tags": [],
            "needs_background": "light"
          }
        }
      ]
    },
    {
      "cell_type": "code",
      "metadata": {
        "id": "4724b77e"
      },
      "source": [
        "#changing the date column type from object type to datetime\n",
        "cases.Date = pd.to_datetime(cases.Date, dayfirst=True)"
      ],
      "id": "4724b77e",
      "execution_count": null,
      "outputs": []
    },
    {
      "cell_type": "code",
      "metadata": {
        "id": "98bb192e",
        "outputId": "e5dafe8f-8796-4d99-e6c9-8b90a0b4b66e"
      },
      "source": [
        "\n",
        "# checking the last date of the sample collection\n",
        "cases.Date.max()"
      ],
      "id": "98bb192e",
      "execution_count": null,
      "outputs": [
        {
          "output_type": "execute_result",
          "data": {
            "text/plain": [
              "Timestamp('2021-07-07 00:00:00')"
            ]
          },
          "metadata": {
            "tags": []
          },
          "execution_count": 28
        }
      ]
    },
    {
      "cell_type": "code",
      "metadata": {
        "id": "a0b93401"
      },
      "source": [
        "# To check the cases, deaths and vaccination in 2 years, I sliced the data into first wave and second wave\n",
        "\n",
        "firstwave = cases.set_index(\"Date\").loc[\"2020-02-28\" : \"2020-12-30\" ]"
      ],
      "id": "a0b93401",
      "execution_count": null,
      "outputs": []
    },
    {
      "cell_type": "code",
      "metadata": {
        "id": "c98efcc5"
      },
      "source": [
        "#second wave\n",
        "Secondwave = cases.set_index(\"Date\").loc[\"2020-12-30\" : \"2021-6-30\" ]"
      ],
      "id": "c98efcc5",
      "execution_count": null,
      "outputs": []
    },
    {
      "cell_type": "code",
      "metadata": {
        "id": "622ddf8e",
        "outputId": "e2223b13-7c20-4063-bc93-b61b85fd56f5"
      },
      "source": [
        "#checking the first wave columns\n",
        "firstwave.head()"
      ],
      "id": "622ddf8e",
      "execution_count": null,
      "outputs": [
        {
          "output_type": "execute_result",
          "data": {
            "text/html": [
              "<div>\n",
              "<style scoped>\n",
              "    .dataframe tbody tr th:only-of-type {\n",
              "        vertical-align: middle;\n",
              "    }\n",
              "\n",
              "    .dataframe tbody tr th {\n",
              "        vertical-align: top;\n",
              "    }\n",
              "\n",
              "    .dataframe thead th {\n",
              "        text-align: right;\n",
              "    }\n",
              "</style>\n",
              "<table border=\"1\" class=\"dataframe\">\n",
              "  <thead>\n",
              "    <tr style=\"text-align: right;\">\n",
              "      <th></th>\n",
              "      <th>Sno</th>\n",
              "      <th>Time</th>\n",
              "      <th>State</th>\n",
              "      <th>ConfirmedIndianNational</th>\n",
              "      <th>ConfirmedForeignNational</th>\n",
              "      <th>Cured</th>\n",
              "      <th>Deaths</th>\n",
              "      <th>Confirmed</th>\n",
              "      <th>Active</th>\n",
              "    </tr>\n",
              "    <tr>\n",
              "      <th>Date</th>\n",
              "      <th></th>\n",
              "      <th></th>\n",
              "      <th></th>\n",
              "      <th></th>\n",
              "      <th></th>\n",
              "      <th></th>\n",
              "      <th></th>\n",
              "      <th></th>\n",
              "      <th></th>\n",
              "    </tr>\n",
              "  </thead>\n",
              "  <tbody>\n",
              "    <tr>\n",
              "      <th>2020-02-28</th>\n",
              "      <td>30</td>\n",
              "      <td>6:00 PM</td>\n",
              "      <td>Kerala</td>\n",
              "      <td>3</td>\n",
              "      <td>0</td>\n",
              "      <td>0</td>\n",
              "      <td>0</td>\n",
              "      <td>3</td>\n",
              "      <td>3</td>\n",
              "    </tr>\n",
              "    <tr>\n",
              "      <th>2020-02-29</th>\n",
              "      <td>31</td>\n",
              "      <td>6:00 PM</td>\n",
              "      <td>Kerala</td>\n",
              "      <td>3</td>\n",
              "      <td>0</td>\n",
              "      <td>0</td>\n",
              "      <td>0</td>\n",
              "      <td>3</td>\n",
              "      <td>3</td>\n",
              "    </tr>\n",
              "    <tr>\n",
              "      <th>2020-03-01</th>\n",
              "      <td>32</td>\n",
              "      <td>6:00 PM</td>\n",
              "      <td>Kerala</td>\n",
              "      <td>3</td>\n",
              "      <td>0</td>\n",
              "      <td>0</td>\n",
              "      <td>0</td>\n",
              "      <td>3</td>\n",
              "      <td>3</td>\n",
              "    </tr>\n",
              "    <tr>\n",
              "      <th>2020-03-02</th>\n",
              "      <td>33</td>\n",
              "      <td>6:00 PM</td>\n",
              "      <td>Telengana</td>\n",
              "      <td>1</td>\n",
              "      <td>0</td>\n",
              "      <td>0</td>\n",
              "      <td>0</td>\n",
              "      <td>1</td>\n",
              "      <td>1</td>\n",
              "    </tr>\n",
              "    <tr>\n",
              "      <th>2020-03-02</th>\n",
              "      <td>34</td>\n",
              "      <td>6:00 PM</td>\n",
              "      <td>Kerala</td>\n",
              "      <td>3</td>\n",
              "      <td>0</td>\n",
              "      <td>0</td>\n",
              "      <td>0</td>\n",
              "      <td>3</td>\n",
              "      <td>3</td>\n",
              "    </tr>\n",
              "  </tbody>\n",
              "</table>\n",
              "</div>"
            ],
            "text/plain": [
              "            Sno     Time      State ConfirmedIndianNational  \\\n",
              "Date                                                          \n",
              "2020-02-28   30  6:00 PM     Kerala                       3   \n",
              "2020-02-29   31  6:00 PM     Kerala                       3   \n",
              "2020-03-01   32  6:00 PM     Kerala                       3   \n",
              "2020-03-02   33  6:00 PM  Telengana                       1   \n",
              "2020-03-02   34  6:00 PM     Kerala                       3   \n",
              "\n",
              "           ConfirmedForeignNational  Cured  Deaths  Confirmed  Active  \n",
              "Date                                                                   \n",
              "2020-02-28                        0      0       0          3       3  \n",
              "2020-02-29                        0      0       0          3       3  \n",
              "2020-03-01                        0      0       0          3       3  \n",
              "2020-03-02                        0      0       0          1       1  \n",
              "2020-03-02                        0      0       0          3       3  "
            ]
          },
          "metadata": {
            "tags": []
          },
          "execution_count": 31
        }
      ]
    },
    {
      "cell_type": "code",
      "metadata": {
        "id": "ac74e278",
        "outputId": "f132cb8f-f24a-4c8d-a1d5-17c1f5bcf50d"
      },
      "source": [
        "#dropping the unnecessary columns\n",
        "firstwave.drop([\"ConfirmedIndianNational\",\"ConfirmedForeignNational\",\"Time\"], axis=1)"
      ],
      "id": "ac74e278",
      "execution_count": null,
      "outputs": [
        {
          "output_type": "execute_result",
          "data": {
            "text/html": [
              "<div>\n",
              "<style scoped>\n",
              "    .dataframe tbody tr th:only-of-type {\n",
              "        vertical-align: middle;\n",
              "    }\n",
              "\n",
              "    .dataframe tbody tr th {\n",
              "        vertical-align: top;\n",
              "    }\n",
              "\n",
              "    .dataframe thead th {\n",
              "        text-align: right;\n",
              "    }\n",
              "</style>\n",
              "<table border=\"1\" class=\"dataframe\">\n",
              "  <thead>\n",
              "    <tr style=\"text-align: right;\">\n",
              "      <th></th>\n",
              "      <th>Sno</th>\n",
              "      <th>State</th>\n",
              "      <th>Cured</th>\n",
              "      <th>Deaths</th>\n",
              "      <th>Confirmed</th>\n",
              "      <th>Active</th>\n",
              "    </tr>\n",
              "    <tr>\n",
              "      <th>Date</th>\n",
              "      <th></th>\n",
              "      <th></th>\n",
              "      <th></th>\n",
              "      <th></th>\n",
              "      <th></th>\n",
              "      <th></th>\n",
              "    </tr>\n",
              "  </thead>\n",
              "  <tbody>\n",
              "    <tr>\n",
              "      <th>2020-02-28</th>\n",
              "      <td>30</td>\n",
              "      <td>Kerala</td>\n",
              "      <td>0</td>\n",
              "      <td>0</td>\n",
              "      <td>3</td>\n",
              "      <td>3</td>\n",
              "    </tr>\n",
              "    <tr>\n",
              "      <th>2020-02-29</th>\n",
              "      <td>31</td>\n",
              "      <td>Kerala</td>\n",
              "      <td>0</td>\n",
              "      <td>0</td>\n",
              "      <td>3</td>\n",
              "      <td>3</td>\n",
              "    </tr>\n",
              "    <tr>\n",
              "      <th>2020-03-01</th>\n",
              "      <td>32</td>\n",
              "      <td>Kerala</td>\n",
              "      <td>0</td>\n",
              "      <td>0</td>\n",
              "      <td>3</td>\n",
              "      <td>3</td>\n",
              "    </tr>\n",
              "    <tr>\n",
              "      <th>2020-03-02</th>\n",
              "      <td>33</td>\n",
              "      <td>Telengana</td>\n",
              "      <td>0</td>\n",
              "      <td>0</td>\n",
              "      <td>1</td>\n",
              "      <td>1</td>\n",
              "    </tr>\n",
              "    <tr>\n",
              "      <th>2020-03-02</th>\n",
              "      <td>34</td>\n",
              "      <td>Kerala</td>\n",
              "      <td>0</td>\n",
              "      <td>0</td>\n",
              "      <td>3</td>\n",
              "      <td>3</td>\n",
              "    </tr>\n",
              "    <tr>\n",
              "      <th>...</th>\n",
              "      <td>...</td>\n",
              "      <td>...</td>\n",
              "      <td>...</td>\n",
              "      <td>...</td>\n",
              "      <td>...</td>\n",
              "      <td>...</td>\n",
              "    </tr>\n",
              "    <tr>\n",
              "      <th>2020-12-30</th>\n",
              "      <td>10042</td>\n",
              "      <td>Telengana</td>\n",
              "      <td>278523</td>\n",
              "      <td>1538</td>\n",
              "      <td>285939</td>\n",
              "      <td>5878</td>\n",
              "    </tr>\n",
              "    <tr>\n",
              "      <th>2020-12-30</th>\n",
              "      <td>10043</td>\n",
              "      <td>Tripura</td>\n",
              "      <td>32735</td>\n",
              "      <td>385</td>\n",
              "      <td>33258</td>\n",
              "      <td>138</td>\n",
              "    </tr>\n",
              "    <tr>\n",
              "      <th>2020-12-30</th>\n",
              "      <td>10044</td>\n",
              "      <td>Uttarakhand</td>\n",
              "      <td>83416</td>\n",
              "      <td>1495</td>\n",
              "      <td>90167</td>\n",
              "      <td>5256</td>\n",
              "    </tr>\n",
              "    <tr>\n",
              "      <th>2020-12-30</th>\n",
              "      <td>10045</td>\n",
              "      <td>Uttar Pradesh</td>\n",
              "      <td>561257</td>\n",
              "      <td>8340</td>\n",
              "      <td>583941</td>\n",
              "      <td>14344</td>\n",
              "    </tr>\n",
              "    <tr>\n",
              "      <th>2020-12-30</th>\n",
              "      <td>10046</td>\n",
              "      <td>West Bengal</td>\n",
              "      <td>527272</td>\n",
              "      <td>9655</td>\n",
              "      <td>549715</td>\n",
              "      <td>12788</td>\n",
              "    </tr>\n",
              "  </tbody>\n",
              "</table>\n",
              "<p>10017 rows × 6 columns</p>\n",
              "</div>"
            ],
            "text/plain": [
              "              Sno          State   Cured  Deaths  Confirmed  Active\n",
              "Date                                                               \n",
              "2020-02-28     30         Kerala       0       0          3       3\n",
              "2020-02-29     31         Kerala       0       0          3       3\n",
              "2020-03-01     32         Kerala       0       0          3       3\n",
              "2020-03-02     33      Telengana       0       0          1       1\n",
              "2020-03-02     34         Kerala       0       0          3       3\n",
              "...           ...            ...     ...     ...        ...     ...\n",
              "2020-12-30  10042      Telengana  278523    1538     285939    5878\n",
              "2020-12-30  10043        Tripura   32735     385      33258     138\n",
              "2020-12-30  10044    Uttarakhand   83416    1495      90167    5256\n",
              "2020-12-30  10045  Uttar Pradesh  561257    8340     583941   14344\n",
              "2020-12-30  10046    West Bengal  527272    9655     549715   12788\n",
              "\n",
              "[10017 rows x 6 columns]"
            ]
          },
          "metadata": {
            "tags": []
          },
          "execution_count": 32
        }
      ]
    },
    {
      "cell_type": "code",
      "metadata": {
        "id": "1ce8c864",
        "outputId": "e934d613-0e7a-4283-e7c7-b3deb22aa6fe"
      },
      "source": [
        "## grouping the states in first wave file to check the state wise death cases\n",
        "\n",
        "firstwave.groupby(\"State\").Deaths.max().sort_values().plot(kind=\"bar\",figsize=(15,5))"
      ],
      "id": "1ce8c864",
      "execution_count": null,
      "outputs": [
        {
          "output_type": "execute_result",
          "data": {
            "text/plain": [
              "<AxesSubplot:xlabel='State'>"
            ]
          },
          "metadata": {
            "tags": []
          },
          "execution_count": 33
        },
        {
          "output_type": "display_data",
          "data": {
            "image/png": "[encoded data removed]",
            "text/plain": [
              "<Figure size 1080x360 with 1 Axes>"
            ]
          },
          "metadata": {
            "tags": [],
            "needs_background": "light"
          }
        }
      ]
    },
    {
      "cell_type": "code",
      "metadata": {
        "id": "dd956ecb",
        "outputId": "641d86a0-843f-4f06-bcab-4293b155cc4e"
      },
      "source": [
        "#calculating the deaths\n",
        "firstwave.Deaths.max()"
      ],
      "id": "dd956ecb",
      "execution_count": null,
      "outputs": [
        {
          "output_type": "execute_result",
          "data": {
            "text/plain": [
              "49373"
            ]
          },
          "metadata": {
            "tags": []
          },
          "execution_count": 34
        }
      ]
    },
    {
      "cell_type": "code",
      "metadata": {
        "id": "421e6f3c",
        "outputId": "844dee57-a027-42f7-ec5f-7b43aa8cf4b9"
      },
      "source": [
        "## grouping the states in second wave file to check the state wise deaths cases\n",
        "\n",
        "Secondwave.groupby(\"State\").Deaths.max().sort_values().plot(kind=\"bar\",figsize=(15,5))"
      ],
      "id": "421e6f3c",
      "execution_count": null,
      "outputs": [
        {
          "output_type": "execute_result",
          "data": {
            "text/plain": [
              "<AxesSubplot:xlabel='State'>"
            ]
          },
          "metadata": {
            "tags": []
          },
          "execution_count": 35
        },
        {
          "output_type": "display_data",
          "data": {
            "image/png": "[encoded data removed]",
            "text/plain": [
              "<Figure size 1080x360 with 1 Axes>"
            ]
          },
          "metadata": {
            "tags": [],
            "needs_background": "light"
          }
        }
      ]
    },
    {
      "cell_type": "code",
      "metadata": {
        "id": "4f79c522",
        "outputId": "2795d531-e79e-42fc-e0e4-50366fa055dd"
      },
      "source": [
        "#calculating the second wave deaths max\n",
        "Secondwave.Deaths.max()"
      ],
      "id": "4f79c522",
      "execution_count": null,
      "outputs": [
        {
          "output_type": "execute_result",
          "data": {
            "text/plain": [
              "121804"
            ]
          },
          "metadata": {
            "tags": []
          },
          "execution_count": 36
        }
      ]
    },
    {
      "cell_type": "code",
      "metadata": {
        "id": "df7774b0",
        "outputId": "0905a170-c9a0-495b-e596-6b6a3c672040"
      },
      "source": [
        "#calculating the first wave confirmed max\n",
        "firstwave.Confirmed.max()"
      ],
      "id": "df7774b0",
      "execution_count": null,
      "outputs": [
        {
          "output_type": "execute_result",
          "data": {
            "text/plain": [
              "1925066"
            ]
          },
          "metadata": {
            "tags": []
          },
          "execution_count": 37
        }
      ]
    },
    {
      "cell_type": "code",
      "metadata": {
        "id": "7b55f510",
        "outputId": "6daebe6a-97c0-4688-a654-d3828936bb96"
      },
      "source": [
        "#calculating the second wave confirmed max\n",
        "Secondwave.Confirmed.max()"
      ],
      "id": "7b55f510",
      "execution_count": null,
      "outputs": [
        {
          "output_type": "execute_result",
          "data": {
            "text/plain": [
              "6051633"
            ]
          },
          "metadata": {
            "tags": []
          },
          "execution_count": 38
        }
      ]
    },
    {
      "cell_type": "code",
      "metadata": {
        "id": "cef03067",
        "outputId": "a4201cf6-d856-46b9-dae3-4306d4daf428"
      },
      "source": [
        "### grouping the states in first wave file to check the state wise Confirmed cases\n",
        "\n",
        "firstwave.groupby(\"State\").Confirmed.max().sort_values().plot(kind=\"bar\",figsize=(10,5))"
      ],
      "id": "cef03067",
      "execution_count": null,
      "outputs": [
        {
          "output_type": "execute_result",
          "data": {
            "text/plain": [
              "<AxesSubplot:xlabel='State'>"
            ]
          },
          "metadata": {
            "tags": []
          },
          "execution_count": 39
        },
        {
          "output_type": "display_data",
          "data": {
            "image/png": "[encoded data removed]",
            "text/plain": [
              "<Figure size 720x360 with 1 Axes>"
            ]
          },
          "metadata": {
            "tags": [],
            "needs_background": "light"
          }
        }
      ]
    },
    {
      "cell_type": "code",
      "metadata": {
        "id": "bfd9d7a1",
        "outputId": "9a950213-f8b3-4ee1-b68c-64ca562ba6ef"
      },
      "source": [
        "#checking the tests file again.\n",
        "tests.head(4)"
      ],
      "id": "bfd9d7a1",
      "execution_count": null,
      "outputs": [
        {
          "output_type": "execute_result",
          "data": {
            "text/html": [
              "<div>\n",
              "<style scoped>\n",
              "    .dataframe tbody tr th:only-of-type {\n",
              "        vertical-align: middle;\n",
              "    }\n",
              "\n",
              "    .dataframe tbody tr th {\n",
              "        vertical-align: top;\n",
              "    }\n",
              "\n",
              "    .dataframe thead th {\n",
              "        text-align: right;\n",
              "    }\n",
              "</style>\n",
              "<table border=\"1\" class=\"dataframe\">\n",
              "  <thead>\n",
              "    <tr style=\"text-align: right;\">\n",
              "      <th></th>\n",
              "      <th>Date</th>\n",
              "      <th>State</th>\n",
              "      <th>TotalSamples</th>\n",
              "      <th>Negative</th>\n",
              "      <th>Positive</th>\n",
              "    </tr>\n",
              "  </thead>\n",
              "  <tbody>\n",
              "    <tr>\n",
              "      <th>0</th>\n",
              "      <td>2020-04-17</td>\n",
              "      <td>Andaman and Nicobar Islands</td>\n",
              "      <td>1403.0</td>\n",
              "      <td>1210</td>\n",
              "      <td>12.0</td>\n",
              "    </tr>\n",
              "    <tr>\n",
              "      <th>1</th>\n",
              "      <td>2020-04-24</td>\n",
              "      <td>Andaman and Nicobar Islands</td>\n",
              "      <td>2679.0</td>\n",
              "      <td>NaN</td>\n",
              "      <td>27.0</td>\n",
              "    </tr>\n",
              "    <tr>\n",
              "      <th>2</th>\n",
              "      <td>2020-04-27</td>\n",
              "      <td>Andaman and Nicobar Islands</td>\n",
              "      <td>2848.0</td>\n",
              "      <td>NaN</td>\n",
              "      <td>33.0</td>\n",
              "    </tr>\n",
              "    <tr>\n",
              "      <th>3</th>\n",
              "      <td>2020-05-01</td>\n",
              "      <td>Andaman and Nicobar Islands</td>\n",
              "      <td>3754.0</td>\n",
              "      <td>NaN</td>\n",
              "      <td>33.0</td>\n",
              "    </tr>\n",
              "  </tbody>\n",
              "</table>\n",
              "</div>"
            ],
            "text/plain": [
              "         Date                        State  TotalSamples Negative  Positive\n",
              "0  2020-04-17  Andaman and Nicobar Islands        1403.0     1210      12.0\n",
              "1  2020-04-24  Andaman and Nicobar Islands        2679.0      NaN      27.0\n",
              "2  2020-04-27  Andaman and Nicobar Islands        2848.0      NaN      33.0\n",
              "3  2020-05-01  Andaman and Nicobar Islands        3754.0      NaN      33.0"
            ]
          },
          "metadata": {
            "tags": []
          },
          "execution_count": 42
        }
      ]
    },
    {
      "cell_type": "code",
      "metadata": {
        "id": "b45ddc0f",
        "outputId": "d59c63bc-ff96-403b-d267-8b123750bafa"
      },
      "source": [
        "\n",
        "#plotting the total samples collected by each state in tests file.\n",
        "tests.groupby(\"State\").TotalSamples.max().sort_values().plot(kind=\"bar\", figsize=(10,5))"
      ],
      "id": "b45ddc0f",
      "execution_count": null,
      "outputs": [
        {
          "output_type": "execute_result",
          "data": {
            "text/plain": [
              "<AxesSubplot:xlabel='State'>"
            ]
          },
          "metadata": {
            "tags": []
          },
          "execution_count": 41
        },
        {
          "output_type": "display_data",
          "data": {
            "image/png": "[encoded data removed]",
            "text/plain": [
              "<Figure size 720x360 with 1 Axes>"
            ]
          },
          "metadata": {
            "tags": [],
            "needs_background": "light"
          }
        }
      ]
    },
    {
      "cell_type": "code",
      "metadata": {
        "id": "ea48bf44"
      },
      "source": [
        ""
      ],
      "id": "ea48bf44",
      "execution_count": null,
      "outputs": []
    }
  ]
}